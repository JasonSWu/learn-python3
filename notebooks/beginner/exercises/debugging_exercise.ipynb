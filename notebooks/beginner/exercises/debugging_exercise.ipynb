{
 "cells": [
  {
   "cell_type": "markdown",
   "metadata": {},
   "source": [
    "# 1. Identifying bugs in code\n",
    "The following `stripped_reversed_lowercase` function contains at least one bug. You can see this by running the code in the cell below which tests the functionality of the `stripped_reversed_lowercase` function.\n",
    "\n",
    "Set trace at the beginning of `stripped_reversed_lowercase` and use debugger to solve the bug(s). Execute the code line by line and print variables used in the function to understand what's going wrong. "
   ]
  },
  {
   "cell_type": "code",
   "execution_count": 18,
   "metadata": {},
   "outputs": [],
   "source": [
    "def stripped_reversed_lowercase(original):\n",
    "    # Set a breakpoint here and start debugging\n",
    "    import pdb; pdb.set_trace()\n",
    "    stripped = original.strip()\n",
    "    Oreversed = ''.join(reversed(stripped))\n",
    "    return Oreversed.lower()"
   ]
  },
  {
   "cell_type": "code",
   "execution_count": 19,
   "metadata": {
    "editable": false
   },
   "outputs": [
    {
     "name": "stdout",
     "output_type": "stream",
     "text": [
      "> \u001b[1;32mc:\\users\\public\\documents\\wondershare\\creatortemp\\ipykernel_15836\\3137339719.py\u001b[0m(4)\u001b[0;36mstripped_reversed_lowercase\u001b[1;34m()\u001b[0m\n",
      "\n"
     ]
    }
   ],
   "source": [
    "# Let's verify it works\n",
    "original = ' \\n Original String '\n",
    "result = stripped_reversed_lowercase(original)\n",
    "assert result == 'gnirts lanigiro'"
   ]
  }
 ],
 "metadata": {
  "kernelspec": {
   "display_name": "Python 3.9.7 ('base')",
   "language": "python",
   "name": "python3"
  },
  "language_info": {
   "codemirror_mode": {
    "name": "ipython",
    "version": 3
   },
   "file_extension": ".py",
   "mimetype": "text/x-python",
   "name": "python",
   "nbconvert_exporter": "python",
   "pygments_lexer": "ipython3",
   "version": "3.9.7"
  },
  "vscode": {
   "interpreter": {
    "hash": "fafa6a80ace2a49b0015505fe7fdb34990347d826ed4c68f014c95f758860bf6"
   }
  }
 },
 "nbformat": 4,
 "nbformat_minor": 2
}
