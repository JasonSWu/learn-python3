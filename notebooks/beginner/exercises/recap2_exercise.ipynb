{
 "cells": [
  {
   "cell_type": "markdown",
   "metadata": {},
   "source": [
    "# 1. [Rock-paper-scissors](https://en.wikipedia.org/wiki/Rock%E2%80%93paper%E2%80%93scissors) \n",
    "Implement `rock_paper_scissors` function which takes the player's rock-paper-scissors choice as an input (as integer), randomly selects the choice of the computer and reveals it (prints) and finally announces (prints) the result. The function should return `PLAYER_WINS`, `COMPUTER_WINS` or `TIE`."
   ]
  },
  {
   "cell_type": "code",
   "execution_count": 1,
   "metadata": {
    "editable": false
   },
   "outputs": [],
   "source": [
    "# Constants, you should use these in your implementation\n",
    "ROCK = 1\n",
    "PAPER = 2\n",
    "SCISSORS = 3\n",
    "\n",
    "PLAYER_WINS = 'Player wins!! Woop woop!'\n",
    "COMPUTER_WINS = 'Robocop wins :-('\n",
    "TIE = \"It's a tie!\""
   ]
  },
  {
   "cell_type": "code",
   "execution_count": 7,
   "metadata": {},
   "outputs": [],
   "source": [
    "# Your implementation here\n",
    "import random\n",
    "def rock_paper_scissors(player):\n",
    "    computer = random.choice([ROCK, PAPER, SCISSORS])\n",
    "    print(computer)\n",
    "    if computer - player in [1, -2]:\n",
    "        print(COMPUTER_WINS)\n",
    "        return COMPUTER_WINS\n",
    "    elif player - computer in [1, -2]:\n",
    "        print(PLAYER_WINS)\n",
    "        return PLAYER_WINS\n",
    "    else:\n",
    "        print(TIE)\n",
    "        return TIE"
   ]
  },
  {
   "cell_type": "markdown",
   "metadata": {},
   "source": [
    "Once you have finished the implementation of `rock_paper_scissors` function, you can check if it works as expected by playing the game:"
   ]
  },
  {
   "cell_type": "code",
   "execution_count": 8,
   "metadata": {},
   "outputs": [
    {
     "name": "stdout",
     "output_type": "stream",
     "text": [
      "Welcome to play rock-paper-scissors\n",
      "The options are:\n",
      "rock: 1\n",
      "paper: 2\n",
      "scissors: 3\n",
      "3\n",
      "Player wins!! Woop woop!\n"
     ]
    }
   ],
   "source": [
    "def play_rps():\n",
    "    print('Welcome to play rock-paper-scissors')\n",
    "    print('The options are:\\nrock: 1\\npaper: 2\\nscissors: 3')\n",
    "\n",
    "    result = TIE\n",
    "    while result == TIE:\n",
    "        player_choice = input('Give your choice\\n')\n",
    "        \n",
    "        if not player_choice in ['1', '2', '3']:\n",
    "            print('Invalid choice')\n",
    "            continue\n",
    "            \n",
    "        result = rock_paper_scissors(int(player_choice))\n",
    "        \n",
    "if __name__ == '__main__':\n",
    "    play_rps()"
   ]
  },
  {
   "cell_type": "markdown",
   "metadata": {},
   "source": [
    "If you copy the code from above cells into a single .py file, you have a rock-paper-scissor command line game!"
   ]
  },
  {
   "cell_type": "markdown",
   "metadata": {},
   "source": [
    "# 2. Data analyzer\n",
    "Implement `DataAnalyzer` class which has the following specification:\n",
    "* `__init__` takes one argument which is a path to the file to be analyzed\n",
    "* `total_samples` method returns the amount of the data samples in the file\n",
    "* `average` method returns the average of the data samples in the file\n",
    "* `median` method returns the median of the data samples in the file\n",
    "* `max_value` method returns the maximum value of the data samples in the file\n",
    "* `min_value` method returns the minimum value of the data samples in the file\n",
    "* `create_report` method returns a report (string) of the file in the following format:\n",
    "\n",
    "```\n",
    "Report for <filename>\n",
    "samples: x\n",
    "average: x.xx\n",
    "median: xx.xx\n",
    "max: xx.xx\n",
    "min: x.xx\n",
    "```\n",
    " \n",
    "Note that average, median, max, and min should be presented with two decimal places in the report.\n",
    "\n",
    "The format of the input file is comma separated and the file contains only numeric values.\n",
    "\n",
    "If there is no data in the input file (empty file), `NoData` exception should be raised. Note: `NoData` should be your custom exception."
   ]
  },
  {
   "cell_type": "code",
   "execution_count": 30,
   "metadata": {},
   "outputs": [],
   "source": [
    "# Your implementation here\n",
    "class NoData(Exception):\n",
    "    pass\n",
    "\n",
    "class DataAnalyzer:\n",
    "    def __init__(self, path):\n",
    "        self.path = path\n",
    "        p = path.split('\\\\')\n",
    "        self.file = p[len(p) - 1]\n",
    "        self.data = []\n",
    "        with open(path, 'r') as f:\n",
    "            for line in f:\n",
    "                self.data.extend(map(int, line.split(', ')))\n",
    "        self.len = len(self.data)\n",
    "        if self.len == 0:\n",
    "            raise NoData\n",
    "        self.data.sort()\n",
    "    def total_samples(self):\n",
    "        return self.len\n",
    "    def average(self):\n",
    "        sum = 0\n",
    "        for n in self.data:\n",
    "            sum += n\n",
    "        return round(sum / self.len, 2)\n",
    "    def median(self):\n",
    "        if self.len % 2 == 0:\n",
    "            return round((self.data[int(self.len / 2)] + self.data[int(self.len / 2 - 1)]) / 2, 2)\n",
    "        else:\n",
    "            return round(self.data[self.len // 2], 2)\n",
    "    def max_value(self):\n",
    "        return round(self.data[self.len - 1], 2)\n",
    "    def min_value(self):\n",
    "        return round(self.data[0], 2)\n",
    "    def create_report(self):\n",
    "        report = 'Report for ' + self.file + '\\n'\n",
    "        report += 'samples: ' + str(self.total_samples())  + '\\n'\n",
    "        report += 'average: ' + '%.2f' % self.average()+ '\\n'\n",
    "        report += 'median: ' + '%.2f' % self.median() + '\\n'\n",
    "        report += 'max: ' + '%.2f' % self.max_value() + '\\n'\n",
    "        report += 'min: ' + '%.2f' % self.min_value()\n",
    "        return report"
   ]
  },
  {
   "cell_type": "markdown",
   "metadata": {},
   "source": [
    "Let's verify it works."
   ]
  },
  {
   "cell_type": "code",
   "execution_count": 31,
   "metadata": {
    "editable": false
   },
   "outputs": [
    {
     "name": "stdout",
     "output_type": "stream",
     "text": [
      "Report for random_data.txt\n",
      "samples: 20\n",
      "average: 49.35\n",
      "median: 47.50\n",
      "max: 94.00\n",
      "min: 4.00\n"
     ]
    }
   ],
   "source": [
    "import os\n",
    "WORKING_DIR = os.getcwd()\n",
    "DATA_DIR = os.path.join(os.path.dirname(WORKING_DIR), 'data')\n",
    "DATA_FILE = os.path.join(DATA_DIR, 'random_data.txt')\n",
    "\n",
    "da = DataAnalyzer(DATA_FILE)\n",
    "\n",
    "assert da.total_samples() == 20\n",
    "assert da.average() == 49.35\n",
    "assert da.median() == 47.5\n",
    "assert da.max_value() == 94\n",
    "assert da.min_value() == 4\n",
    "\n",
    "report = da.create_report()\n",
    "print(report)\n",
    "\n",
    "expected_report = (\n",
    "'Report for random_data.txt\\n'\n",
    "'samples: 20\\n'\n",
    "'average: 49.35\\n'\n",
    "'median: 47.50\\n'\n",
    "'max: 94.00\\n'\n",
    "'min: 4.00')\n",
    "assert report == expected_report "
   ]
  },
  {
   "cell_type": "markdown",
   "metadata": {},
   "source": [
    "Let's check that it raises `NoData` with empty file."
   ]
  },
  {
   "cell_type": "code",
   "execution_count": 32,
   "metadata": {
    "editable": false
   },
   "outputs": [
    {
     "name": "stdout",
     "output_type": "stream",
     "text": [
      "All ok :)\n"
     ]
    }
   ],
   "source": [
    "EMPTY_FILE = os.path.join(DATA_DIR, 'empty_file.txt')\n",
    "try:\n",
    "    da_empty = DataAnalyzer(EMPTY_FILE)\n",
    "except NoData:\n",
    "    print('All ok :)')\n",
    "else: # There was no exception\n",
    "    assert False"
   ]
  }
 ],
 "metadata": {
  "kernelspec": {
   "display_name": "Python 3.9.7 ('base')",
   "language": "python",
   "name": "python3"
  },
  "language_info": {
   "codemirror_mode": {
    "name": "ipython",
    "version": 3
   },
   "file_extension": ".py",
   "mimetype": "text/x-python",
   "name": "python",
   "nbconvert_exporter": "python",
   "pygments_lexer": "ipython3",
   "version": "3.9.7"
  },
  "vscode": {
   "interpreter": {
    "hash": "fafa6a80ace2a49b0015505fe7fdb34990347d826ed4c68f014c95f758860bf6"
   }
  }
 },
 "nbformat": 4,
 "nbformat_minor": 2
}
